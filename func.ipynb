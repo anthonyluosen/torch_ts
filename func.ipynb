{
 "cells": [
  {
   "cell_type": "code",
   "execution_count": 7,
   "metadata": {},
   "outputs": [
    {
     "name": "stdout",
     "output_type": "stream",
     "text": [
      "tensor([[[[ 1,  2,  3,  4],\n",
      "          [ 3,  4,  5,  6]],\n",
      "\n",
      "         [[ 7,  8,  9, 10],\n",
      "          [ 9, 10, 11, 12]],\n",
      "\n",
      "         [[13, 14, 15, 16],\n",
      "          [15, 16, 17, 18]]],\n",
      "\n",
      "\n",
      "        [[[19, 20, 21, 22],\n",
      "          [21, 22, 23, 24]],\n",
      "\n",
      "         [[25, 26, 27, 28],\n",
      "          [27, 28, 29, 30]],\n",
      "\n",
      "         [[31, 32, 33, 34],\n",
      "          [33, 34, 35, 36]]]])\n"
     ]
    }
   ],
   "source": [
    "import torch\n",
    "\n",
    "import torch\n",
    "\n",
    "# 创建一个示例数据 (N=2, C=3, L=6)\n",
    "data = torch.tensor([[[1, 2, 3, 4, 5, 6],\n",
    "                      [7, 8, 9, 10, 11, 12],\n",
    "                      [13, 14, 15, 16, 17, 18]],\n",
    "                     \n",
    "                     [[19, 20, 21, 22, 23, 24],\n",
    "                      [25, 26, 27, 28, 29, 30],\n",
    "                      [31, 32, 33, 34, 35, 36]]])\n",
    "\n",
    "# 在长度维度 (L) 上执行滑动窗口操作，窗口大小为 4，步幅为 2\n",
    "unfolded = data.unfold(2, 4, 2)\n",
    "\n",
    "print(unfolded)\n",
    "\n"
   ]
  },
  {
   "cell_type": "code",
   "execution_count": 13,
   "metadata": {},
   "outputs": [],
   "source": [
    "data = torch.randn(2000,48,46 )\n",
    "data_folded = data.unfold(1,6,3)"
   ]
  },
  {
   "cell_type": "code",
   "execution_count": 15,
   "metadata": {},
   "outputs": [
    {
     "data": {
      "text/plain": [
       "torch.Size([2000, 15, 46, 6])"
      ]
     },
     "execution_count": 15,
     "metadata": {},
     "output_type": "execute_result"
    }
   ],
   "source": [
    "data_folded.shape"
   ]
  },
  {
   "cell_type": "code",
   "execution_count": 8,
   "metadata": {},
   "outputs": [
    {
     "data": {
      "text/plain": [
       "(torch.Size([2, 3, 2, 4]), torch.Size([2, 3, 6]))"
      ]
     },
     "execution_count": 8,
     "metadata": {},
     "output_type": "execute_result"
    }
   ],
   "source": [
    "unfolded.shape,data.shape"
   ]
  },
  {
   "cell_type": "code",
   "execution_count": null,
   "metadata": {},
   "outputs": [],
   "source": []
  }
 ],
 "metadata": {
  "kernelspec": {
   "display_name": "pydev",
   "language": "python",
   "name": "python3"
  },
  "language_info": {
   "codemirror_mode": {
    "name": "ipython",
    "version": 3
   },
   "file_extension": ".py",
   "mimetype": "text/x-python",
   "name": "python",
   "nbconvert_exporter": "python",
   "pygments_lexer": "ipython3",
   "version": "3.8.16"
  }
 },
 "nbformat": 4,
 "nbformat_minor": 2
}
